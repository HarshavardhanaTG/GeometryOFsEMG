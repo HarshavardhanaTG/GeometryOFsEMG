{
 "cells": [
  {
   "cell_type": "code",
   "execution_count": 1,
   "metadata": {},
   "outputs": [],
   "source": [
    "import numpy as np\n",
    "import numpy as np\n",
    "import matplotlib.pyplot as plt\n",
    "from sklearn import svm"
   ]
  },
  {
   "cell_type": "code",
   "execution_count": 2,
   "metadata": {},
   "outputs": [],
   "source": [
    "def splitMatrix(matrix):\n",
    "    diagonalMatrix = np.diag(np.log(np.diag(matrix)))\n",
    "    strictlyLowerTriangularMatrix = np.tril(matrix, k = -1)\n",
    "    return diagonalMatrix, strictlyLowerTriangularMatrix"
   ]
  },
  {
   "cell_type": "code",
   "execution_count": 3,
   "metadata": {},
   "outputs": [],
   "source": [
    "def distanceMatrices(matrix1, matrix2):\n",
    "    chol1 = np.linalg.cholesky(matrix1)\n",
    "    chol2 = np.linalg.cholesky(matrix2)\n",
    "    chol1D, chol1L = splitMatrix(chol1)\n",
    "    chol2D, chol2L = splitMatrix(chol2)\n",
    "    distanceL = np.square(np.linalg.norm(chol1L - chol2L, 'fro'))\n",
    "    distanceD = np.square(np.linalg.norm(chol1D - chol2D, 'fro'))\n",
    "    distance = np.sqrt(distanceL + distanceD)\n",
    "    return distance"
   ]
  },
  {
   "cell_type": "code",
   "execution_count": 4,
   "metadata": {},
   "outputs": [],
   "source": [
    "def manifoldKernel(X, Y, gamma):\n",
    "    numberMatricesX = X.shape[0]\n",
    "    numberMatricesY = Y.shape[0]\n",
    "    X = X.reshape(-1, X.shape[1], X.shape[1])\n",
    "    Y = Y.reshape(-1, Y.shape[1], Y.shape[1])\n",
    "    pairwiseDistances = np.zeros((numberMatricesX, numberMatricesY))\n",
    "    for i in range(numberMatricesX):\n",
    "        for j in range(numberMatricesY):\n",
    "            distance = distanceMatrices(X[i], Y[j])\n",
    "            pairwiseDistances[i, j] = np.exp(-gamma * distance ** 2)\n",
    "\n",
    "    return pairwiseDistances"
   ]
  },
  {
   "cell_type": "code",
   "execution_count": 5,
   "metadata": {},
   "outputs": [
    {
     "name": "stdout",
     "output_type": "stream",
     "text": [
      "(360, 12, 12)\n",
      "(360,)\n",
      "Mean accuracy is:  0.9888888888888889\n"
     ]
    }
   ],
   "source": [
    "\"\"\"\n",
    "Verify manifold SVM for UCD-MyoVerse-Hand-0 Subject 0.\n",
    "Use first 18 trials of each gesture for training and last 18 trials for testing.\n",
    "\"\"\"\n",
    "\n",
    "covarianceMatrices = np.load(\"UCDMyoVerseSubject0Data.npy\")\n",
    "Labels = np.load(\"UCDMyoVerseSubject0Labels.npy\")\n",
    "print(covarianceMatrices.shape)\n",
    "print(Labels.shape)\n",
    "\n",
    "numberGestures = 10\n",
    "trialsPerGesture = 36\n",
    "numberChannels = 12\n",
    "\n",
    "Indices =  {0: [], 1: [], 2: [], 3: [], 4: [], 5: [], 6: [], 7: [], 8: [], 9: []}\n",
    "for i in range(len(Labels)):\n",
    "    Indices[Labels[i]].append(i)\n",
    "\n",
    "covarianceMatrixByLabels = np.zeros((numberGestures, trialsPerGesture, numberChannels, numberChannels))\n",
    "for i in range(numberGestures):\n",
    "    for j in range(trialsPerGesture):\n",
    "        covarianceMatrixByLabels[i, j] = covarianceMatrices[Indices[i][j]]\n",
    "\n",
    "trainFeatures = np.zeros((numberGestures * trialsPerGesture // 2, numberChannels, numberChannels))\n",
    "trainLabels = np.zeros((numberGestures * trialsPerGesture // 2))\n",
    "count = 0\n",
    "for i in range(numberGestures):\n",
    "    trainFeatures[count:count + 18] = covarianceMatrixByLabels[i, :18]\n",
    "    trainLabels[count:count + 18] = [i] * 18\n",
    "    count += 18\n",
    "\n",
    "testFeatures = np.zeros((numberGestures * trialsPerGesture // 2, numberChannels, numberChannels))\n",
    "testLabels = np.zeros((numberGestures * trialsPerGesture // 2))\n",
    "count = 0\n",
    "for i in range(numberGestures):\n",
    "    testFeatures[count:count + 18] = covarianceMatrixByLabels[i, 18:]\n",
    "    testLabels[count:count + 18] = [i] * 18\n",
    "    count += 18\n",
    "\n",
    "prediction = np.zeros((numberGestures * trialsPerGesture // 2))\n",
    "\n",
    "clf = svm.SVC(kernel = 'precomputed')\n",
    "\n",
    "kernelMatrix = manifoldKernel(trainFeatures, trainFeatures, 1)\n",
    "\n",
    "clf.fit(kernelMatrix, trainLabels)\n",
    "\n",
    "kernelTest = manifoldKernel(testFeatures, trainFeatures, 1)\n",
    "prediction = clf.predict(kernelTest)\n",
    "\n",
    "print(\"Mean accuracy is: \", np.mean(prediction == testLabels))\n"
   ]
  },
  {
   "cell_type": "code",
   "execution_count": 6,
   "metadata": {},
   "outputs": [
    {
     "name": "stdout",
     "output_type": "stream",
     "text": [
      "(102, 12, 12)\n",
      "(102,)\n",
      "Mean accuracy is:  1.0\n"
     ]
    }
   ],
   "source": [
    "\"\"\"\n",
    "Verify manifold SVM for Ninapro DB2-Exercise-1 Subject 0.\n",
    "Use repititions [0, 2, 3, 5] for training and repititions [1, 4] for testing.\n",
    "\"\"\"\n",
    "\n",
    "covarianceMatrices = np.load(\"ninaproSubject0Data.npy\")\n",
    "Labels = np.load(\"ninaproSubject0Labels.npy\") - 1\n",
    "print(covarianceMatrices.shape)\n",
    "print(Labels.shape)\n",
    "\n",
    "numberGestures = 17\n",
    "numberChannels = 12\n",
    "numberRepeat = 6\n",
    "\n",
    "trainFeatures = np.zeros((4 * numberGestures, numberChannels, numberChannels))\n",
    "trainLabels = np.zeros((4 * numberGestures))\n",
    "\n",
    "testFeatures = np.zeros((2 * numberGestures, numberChannels, numberChannels))\n",
    "testLabels = np.zeros((2 * numberGestures))\n",
    "\n",
    "repeatTrain = [0, 2, 3, 5]\n",
    "repeatTest = [1, 4]\n",
    "\n",
    "index = 0\n",
    "for gesture in range(numberGestures):\n",
    "    for repeat in repeatTrain:\n",
    "        trainFeatures[index] = covarianceMatrices[gesture * numberRepeat + repeat]\n",
    "        trainLabels[index] = gesture\n",
    "        index += 1\n",
    "\n",
    "index = 0\n",
    "for gesture in range(numberGestures):\n",
    "    for repeat in repeatTest:\n",
    "        testFeatures[index] = covarianceMatrices[gesture * numberRepeat + repeat]\n",
    "        testLabels[index] = gesture\n",
    "        index += 1\n",
    "\n",
    "prediction = np.zeros((2 * numberGestures))\n",
    "    \n",
    "clf = svm.SVC(kernel = 'precomputed')\n",
    "\n",
    "kernelMatrix = manifoldKernel(trainFeatures, trainFeatures, 8)\n",
    "\n",
    "clf.fit(kernelMatrix, trainLabels)\n",
    "\n",
    "kernelTest = manifoldKernel(testFeatures, trainFeatures, 8)\n",
    "prediction = clf.predict(kernelTest)\n",
    "\n",
    "print(\"Mean accuracy is: \", np.mean(prediction == testLabels))"
   ]
  }
 ],
 "metadata": {
  "kernelspec": {
   "display_name": "meg",
   "language": "python",
   "name": "python3"
  },
  "language_info": {
   "codemirror_mode": {
    "name": "ipython",
    "version": 3
   },
   "file_extension": ".py",
   "mimetype": "text/x-python",
   "name": "python",
   "nbconvert_exporter": "python",
   "pygments_lexer": "ipython3",
   "version": "3.10.13"
  }
 },
 "nbformat": 4,
 "nbformat_minor": 2
}
