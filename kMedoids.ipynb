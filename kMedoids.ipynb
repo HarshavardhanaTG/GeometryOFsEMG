{
 "cells": [
  {
   "cell_type": "code",
   "execution_count": 1,
   "metadata": {},
   "outputs": [],
   "source": [
    "import numpy as np\n",
    "import matplotlib.pyplot as plt\n",
    "from sklearn import svm\n",
    "from sklearn_extra.cluster import KMedoids\n",
    "from scipy.spatial.distance import cdist"
   ]
  },
  {
   "cell_type": "code",
   "execution_count": 2,
   "metadata": {},
   "outputs": [],
   "source": [
    "def splitMatrix(matrix):\n",
    "    diagonalMatrix = np.diag(np.log(np.diag(matrix)))\n",
    "    strictlyLowerTriangularMatrix = np.tril(matrix, k = -1)\n",
    "    return diagonalMatrix, strictlyLowerTriangularMatrix"
   ]
  },
  {
   "cell_type": "code",
   "execution_count": 3,
   "metadata": {},
   "outputs": [],
   "source": [
    "def distanceMatrices(matrix1, matrix2):\n",
    "    chol1 = np.linalg.cholesky(matrix1)\n",
    "    chol2 = np.linalg.cholesky(matrix2)\n",
    "    chol1D, chol1L = splitMatrix(chol1)\n",
    "    chol2D, chol2L = splitMatrix(chol2)\n",
    "    distanceL = np.square(np.linalg.norm(chol1L - chol2L, 'fro'))\n",
    "    distanceD = np.square(np.linalg.norm(chol1D - chol2D, 'fro'))\n",
    "    distance = np.sqrt(distanceL + distanceD)\n",
    "    return distance"
   ]
  },
  {
   "cell_type": "code",
   "execution_count": 4,
   "metadata": {},
   "outputs": [],
   "source": [
    "def pairwiseDistances(matrixSet1, matrixSet2):\n",
    "    matrixSet1 = matrixSet1.reshape(-1, 12, 12)\n",
    "    matrixSet2 = matrixSet2.reshape(-1, 12, 12)\n",
    "    shape1 = matrixSet1.shape[0]\n",
    "    shape2 = matrixSet2.shape[0]\n",
    "    PairwiseDistances = np.zeros((shape1, shape2))\n",
    "    for i in range(shape1):\n",
    "        for j in range(shape2):\n",
    "            distance = distanceMatrices(matrixSet1[i], matrixSet2[j])\n",
    "            PairwiseDistances[i, j] = distance\n",
    "    return PairwiseDistances"
   ]
  },
  {
   "cell_type": "code",
   "execution_count": 5,
   "metadata": {},
   "outputs": [
    {
     "name": "stdout",
     "output_type": "stream",
     "text": [
      "(360, 12, 12)\n",
      "(360,)\n",
      "Mean acuracy is:  0.9388888888888889\n"
     ]
    }
   ],
   "source": [
    "covarianceMatrices = np.load(\"UCDMyoVerseSubject0Data.npy\")\n",
    "Labels = np.load(\"UCDMyoVerseSubject0Labels.npy\")\n",
    "print(covarianceMatrices.shape)\n",
    "print(Labels.shape)\n",
    "\n",
    "numberGestures = 10\n",
    "trialsPerGesture = 36\n",
    "numberChannels = 12\n",
    "    \n",
    "PairwiseDistances = cdist(covarianceMatrices.reshape(-1, 144), covarianceMatrices.reshape(-1, 144), metric = pairwiseDistances)\n",
    "kmedoids = KMedoids(n_clusters = numberGestures, metric = \"precomputed\", method = 'pam', init = \"k-medoids++\", max_iter = 1000, random_state = 0)\n",
    "kmedoids.fit(PairwiseDistances)\n",
    "\n",
    "clusterLabels = kmedoids.labels_\n",
    "medoidIndices = kmedoids.medoid_indices_\n",
    "medoidLabels = Labels[medoidIndices]\n",
    "\n",
    "assignedLabels = np.zeros((trialsPerGesture * numberGestures))\n",
    "for i in range(trialsPerGesture * numberGestures):\n",
    "    assignedLabels[i] = medoidLabels[clusterLabels[i]]\n",
    "\n",
    "print(\"Mean acuracy is: \", np.mean(assignedLabels == Labels))"
   ]
  },
  {
   "cell_type": "code",
   "execution_count": null,
   "metadata": {},
   "outputs": [],
   "source": []
  }
 ],
 "metadata": {
  "kernelspec": {
   "display_name": "meg",
   "language": "python",
   "name": "python3"
  },
  "language_info": {
   "codemirror_mode": {
    "name": "ipython",
    "version": 3
   },
   "file_extension": ".py",
   "mimetype": "text/x-python",
   "name": "python",
   "nbconvert_exporter": "python",
   "pygments_lexer": "ipython3",
   "version": "3.10.13"
  }
 },
 "nbformat": 4,
 "nbformat_minor": 2
}
