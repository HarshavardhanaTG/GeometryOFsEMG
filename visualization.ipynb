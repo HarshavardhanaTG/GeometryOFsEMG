{
 "cells": [
  {
   "cell_type": "code",
   "execution_count": 1,
   "metadata": {},
   "outputs": [],
   "source": [
    "import numpy as np\n",
    "import scipy.io as sio\n",
    "from sklearn.manifold import TSNE\n",
    "import matplotlib.pyplot as plt\n",
    "import numpy as np\n",
    "from matplotlib.colors import ListedColormap"
   ]
  },
  {
   "cell_type": "code",
   "execution_count": 19,
   "metadata": {},
   "outputs": [],
   "source": []
  },
  {
   "cell_type": "code",
   "execution_count": 14,
   "metadata": {},
   "outputs": [],
   "source": []
  },
  {
   "cell_type": "code",
   "execution_count": 16,
   "metadata": {},
   "outputs": [],
   "source": [
    "def splitMatrix(matrix):\n",
    "    diagonalMatrix = np.diag(np.log(np.diag(matrix)))\n",
    "    strictlyLowerTriangularMatrix = np.tril(matrix, k = -1)\n",
    "    return diagonalMatrix, strictlyLowerTriangularMatrix"
   ]
  },
  {
   "cell_type": "code",
   "execution_count": 17,
   "metadata": {},
   "outputs": [],
   "source": [
    "def distanceMatrices(matrix1, matrix2):\n",
    "    chol1 = np.linalg.cholesky(matrix1)\n",
    "    chol2 = np.linalg.cholesky(matrix2)\n",
    "    chol1D, chol1L = splitMatrix(chol1)\n",
    "    chol2D, chol2L = splitMatrix(chol2)\n",
    "    distanceL = np.square(np.linalg.norm(chol1L - chol2L, 'fro'))\n",
    "    distanceD = np.square(np.linalg.norm(chol1D - chol2D, 'fro'))\n",
    "    distance = np.sqrt(distanceL + distanceD)\n",
    "    return distance"
   ]
  },
  {
   "cell_type": "code",
   "execution_count": 18,
   "metadata": {},
   "outputs": [],
   "source": [
    "def pairwiseDistances(matrix):\n",
    "    numberMatrices, n, _ = np.shape(matrix)\n",
    "    DISTANCES = np.zeros((numberMatrices, numberMatrices))\n",
    "    for i in range(numberMatrices):\n",
    "        for j in range(i, numberMatrices):\n",
    "            distance = distanceMatrices(matrix[i], matrix[j])\n",
    "            DISTANCES[i, j] = distance\n",
    "            DISTANCES[j, i] = distance\n",
    "    return DISTANCES"
   ]
  },
  {
   "cell_type": "code",
   "execution_count": 50,
   "metadata": {},
   "outputs": [],
   "source": [
    "def tSNE(covarianceMatrix, Perplexity):\n",
    "    temporaryMatrix = covarianceMatrix.reshape(-1, 12, 12)\n",
    "    \n",
    "    pairwiseDistance = pairwiseDistances(temporaryMatrix)\n",
    "    \n",
    "    tsne = TSNE(metric = 'precomputed', perplexity = Perplexity, learning_rate = 200, early_exaggeration = 4, init = \"random\", n_jobs = -1)\n",
    "\n",
    "    out = tsne.fit_transform(pairwiseDistance)\n",
    "\n",
    "\n",
    "    return out"
   ]
  },
  {
   "cell_type": "code",
   "execution_count": 51,
   "metadata": {},
   "outputs": [
    {
     "name": "stdout",
     "output_type": "stream",
     "text": [
      "(360, 12, 12)\n",
      "(360,)\n"
     ]
    }
   ],
   "source": [
    "covarianceMatrices = np.load(\"UCDMyoVerseSubject0Data.npy\")\n",
    "Labels = np.load(\"UCDMyoVerseSubject0Labels.npy\")\n",
    "print(covarianceMatrices.shape)\n",
    "print(Labels.shape)\n",
    "\n",
    "tsneEmbedding = tSNE(covarianceMatrices, 20)\n",
    "\n",
    "colors = colors = ['#FF0000', '#00FF00', '#0000FF', '#FFFF00', '#00FFFF', '#FF00FF', '#FFA500', '#800080', '#A52A2A', '#FFC0CB']\n",
    "\n",
    "colors = ListedColormap(colors)\n",
    "\n",
    "plt.scatter(tsneEmbedding[:, 0], tsneEmbedding[:, 1], c = Labels, cmap = colors, marker='.')\n",
    "\n",
    "colorbar_ax = plt.gcf().add_axes([0.92, 0.1, 0.02, 0.8])\n",
    "                                \n",
    "cbar = plt.colorbar(orientation='vertical', cax=colorbar_ax)\n",
    "cbar.set_ticks(range(10))  \n",
    "cbar.set_ticklabels(range(10)) \n",
    "plt.show()"
   ]
  },
  {
   "cell_type": "code",
   "execution_count": 54,
   "metadata": {},
   "outputs": [
    {
     "name": "stdout",
     "output_type": "stream",
     "text": [
      "(102, 12, 12)\n",
      "(102,)\n"
     ]
    }
   ],
   "source": [
    "covarianceMatrices = np.load(\"ninaproSubject0Data.npy\")\n",
    "Labels = np.load(\"ninaproSubject0Labels.npy\")\n",
    "print(covarianceMatrices.shape)\n",
    "print(Labels.shape)\n",
    "\n",
    "tsneEmbedding = tSNE(covarianceMatrices, 5)\n",
    "\n",
    "colors = [\n",
    "\n",
    "\"darkred\",\n",
    "\"darkblue\",\n",
    "\"darkgreen\",\n",
    "\"darkcyan\",\n",
    "\"darkmagenta\",\n",
    "\"darkorange\",\n",
    "\"darkolivegreen\",\n",
    "\"darkorchid\",\n",
    "\"darkgoldenrod\",\n",
    "\"darkseagreen\",\n",
    "\"darkslateblue\",\n",
    "\"darkslategray\",\n",
    "\"darkturquoise\",\n",
    "\"darkviolet\",\n",
    "\"darkkhaki\",\n",
    "\"indigo\",\n",
    "\"firebrick\",]\n",
    "\n",
    "colors = ListedColormap(colors)\n",
    "\n",
    "plt.scatter(tsneEmbedding[:, 0], tsneEmbedding[:, 1], c = Labels, cmap = colors, marker='.')\n",
    "\n",
    "colorbar_ax = plt.gcf().add_axes([0.92, 0.1, 0.02, 0.8])\n",
    "                                 \n",
    "cbar = plt.colorbar(orientation='vertical', cax=colorbar_ax)\n",
    "cbar.set_ticks(range(17))  \n",
    "cbar.set_ticklabels(range(17)) \n",
    "plt.show()\n",
    "plt.close()\n",
    "\n"
   ]
  }
 ],
 "metadata": {
  "kernelspec": {
   "display_name": "meg",
   "language": "python",
   "name": "python3"
  },
  "language_info": {
   "codemirror_mode": {
    "name": "ipython",
    "version": 3
   },
   "file_extension": ".py",
   "mimetype": "text/x-python",
   "name": "python",
   "nbconvert_exporter": "python",
   "pygments_lexer": "ipython3",
   "version": "3.10.13"
  }
 },
 "nbformat": 4,
 "nbformat_minor": 2
}
