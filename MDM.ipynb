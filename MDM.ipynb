{
 "cells": [
  {
   "cell_type": "code",
   "execution_count": 3,
   "metadata": {},
   "outputs": [],
   "source": [
    "import numpy as np\n",
    "import numpy as np\n",
    "import matplotlib.pyplot as plt"
   ]
  },
  {
   "cell_type": "code",
   "execution_count": 6,
   "metadata": {},
   "outputs": [],
   "source": [
    "def splitMatrix(matrix):\n",
    "    diagonalMatrix = np.diag(np.log(np.diag(matrix)))\n",
    "    strictlyLowerTriangularMatrix = np.tril(matrix, k = -1)\n",
    "    return diagonalMatrix, strictlyLowerTriangularMatrix"
   ]
  },
  {
   "cell_type": "code",
   "execution_count": 7,
   "metadata": {},
   "outputs": [],
   "source": [
    "\"\"\" \n",
    "Calculate the Frechet mean of Cholesky matrices\n",
    "\"\"\"\n",
    "\n",
    "def MEAN(matrix):\n",
    "    numberMatrices, n, _ = np.shape(matrix)\n",
    "    lowerMatrices = np.zeros((numberMatrices, n, n))\n",
    "    diagonalMatrices = np.zeros((numberMatrices, n, n))\n",
    "    for i in range(numberMatrices):\n",
    "        chol = np.linalg.cholesky(matrix[i, :, :])\n",
    "        cholD, cholL = splitMatrix(chol)\n",
    "        lowerMatrices[i, :, :] = cholL\n",
    "        diagonalMatrices[i, :, :] = cholD\n",
    "    \n",
    "    meanL = np.mean(lowerMatrices, axis = 0)\n",
    "    meanD = np.diag(np.exp(np.diag(np.mean(diagonalMatrices, axis = 0))))\n",
    "\n",
    "    meanF = meanL + meanD\n",
    "    return meanF"
   ]
  },
  {
   "cell_type": "code",
   "execution_count": 8,
   "metadata": {},
   "outputs": [],
   "source": [
    "def distanceMatrices(matrix1, matrix2):\n",
    "    chol1 = np.linalg.cholesky(matrix1)\n",
    "    chol2 = np.linalg.cholesky(matrix2)\n",
    "    chol1D, chol1L = splitMatrix(chol1)\n",
    "    chol2D, chol2L = splitMatrix(chol2)\n",
    "    distanceL = np.square(np.linalg.norm(chol1L - chol2L, 'fro'))\n",
    "    distanceD = np.square(np.linalg.norm(chol1D - chol2D, 'fro'))\n",
    "    distance = np.sqrt(distanceL + distanceD)\n",
    "    return distance"
   ]
  },
  {
   "cell_type": "code",
   "execution_count": 11,
   "metadata": {},
   "outputs": [
    {
     "name": "stdout",
     "output_type": "stream",
     "text": [
      "(360, 12, 12)\n",
      "(360,)\n",
      "Mean accuracy is:  0.9722222222222222\n"
     ]
    }
   ],
   "source": [
    "\"\"\"\n",
    "Verify manifold MDM for UCD-MyoVerse-Hand-0 Subject 0.\n",
    "Use first 18 trials of each gesture for training and last 18 trials for testing.\n",
    "\"\"\"\n",
    "\n",
    "covarianceMatrices = np.load(\"UCDMyoVerseSubject0Data.npy\")\n",
    "Labels = np.load(\"UCDMyoVerseSubject0Labels.npy\")\n",
    "print(covarianceMatrices.shape)\n",
    "print(Labels.shape)\n",
    "\n",
    "numberGestures = 10\n",
    "trialsPerGesture = 36\n",
    "numberChannels = 12\n",
    "\n",
    "Indices =  {0: [], 1: [], 2: [], 3: [], 4: [], 5: [], 6: [], 7: [], 8: [], 9: []}\n",
    "for i in range(len(Labels)):\n",
    "    Indices[Labels[i]].append(i)\n",
    "\n",
    "covarianceMatrixByLabels = np.zeros((numberGestures, trialsPerGesture, numberChannels, numberChannels))\n",
    "for i in range(numberGestures):\n",
    "    for j in range(trialsPerGesture):\n",
    "        covarianceMatrixByLabels[i, j] = covarianceMatrices[Indices[i][j]]\n",
    "\n",
    "trainCentroid = np.zeros((numberGestures, numberChannels, numberChannels))\n",
    "for i in range(numberGestures):\n",
    "    trainCentroid[i, :, :] = MEAN(covarianceMatrixByLabels[i, :18])\n",
    "\n",
    "testFeatures = np.zeros((numberGestures * trialsPerGesture // 2, numberChannels, numberChannels))\n",
    "testLabels = np.zeros((numberGestures * trialsPerGesture // 2))\n",
    "count = 0\n",
    "for i in range(numberGestures):\n",
    "    testFeatures[count:count + 18] = covarianceMatrixByLabels[i, 18:]\n",
    "    testLabels[count:count + 18] = [i] * 18\n",
    "    count += 18\n",
    "\n",
    "predictLabels = np.zeros((numberGestures * trialsPerGesture // 2))\n",
    "for k in range(numberGestures * trialsPerGesture // 2):\n",
    "    distances = np.zeros((numberGestures))\n",
    "    for m in range(numberGestures):\n",
    "        distances[m] = distanceMatrices(testFeatures[k], trainCentroid[m]@trainCentroid[m].transpose())\n",
    "    predictLabels[k] = np.argmin(distances)\n",
    "\n",
    "correct = (predictLabels == testLabels)\n",
    "print(\"Mean accuracy is: \", np.mean(correct))"
   ]
  },
  {
   "cell_type": "code",
   "execution_count": 14,
   "metadata": {},
   "outputs": [
    {
     "name": "stdout",
     "output_type": "stream",
     "text": [
      "(102, 12, 12)\n",
      "(102,)\n",
      "Mean accuracy is:  1.0\n"
     ]
    }
   ],
   "source": [
    "\"\"\"\n",
    "Verify manifold MDM for Ninapro DB2-Exercise-1 Subject 0.\n",
    "Use repititions [0, 2, 3, 5] for training and repititions [1, 4] for testing.\n",
    "\"\"\"\n",
    "\n",
    "covarianceMatrices = np.load(\"ninaproSubject0Data.npy\")\n",
    "Labels = np.load(\"ninaproSubject0Labels.npy\") - 1\n",
    "print(covarianceMatrices.shape)\n",
    "print(Labels.shape)\n",
    "\n",
    "numberGestures = 17\n",
    "numberChannels = 12\n",
    "numberRepeat = 6\n",
    "\n",
    "trainFeatures = np.zeros((4 * numberGestures, numberChannels, numberChannels))\n",
    "trainLabels = np.zeros((4 * numberGestures))\n",
    "\n",
    "testFeatures = np.zeros((2 * numberGestures, numberChannels, numberChannels))\n",
    "testLabels = np.zeros((2 * numberGestures))\n",
    "\n",
    "repeatTrain = [0, 2, 3, 5]\n",
    "repeatTest = [1, 4]\n",
    "\n",
    "\n",
    "index = 0\n",
    "for gesture in range(numberGestures):\n",
    "    for repeat in repeatTrain:\n",
    "        trainFeatures[index] = covarianceMatrices[gesture * numberRepeat + repeat]\n",
    "        trainLabels[index] = gesture\n",
    "        index += 1\n",
    "\n",
    "\n",
    "index = 0\n",
    "for gesture in range(numberGestures):\n",
    "    for repeat in repeatTest:\n",
    "        testFeatures[index] = covarianceMatrices[gesture * numberRepeat + repeat]\n",
    "        testLabels[index] = gesture\n",
    "        index += 1\n",
    "\n",
    "trainCentroid = np.zeros((numberGestures, numberChannels, numberChannels))\n",
    "for i in range(numberGestures):\n",
    "    trainCentroid[i, :, :] = MEAN(trainFeatures[i * 4: i * 4 + 4])\n",
    "\n",
    "\n",
    "predictLabels = np.zeros((2 * numberGestures))\n",
    "for k in range(2 * numberGestures):\n",
    "    distances = np.zeros((numberGestures))\n",
    "    for m in range(numberGestures):\n",
    "        distances[m] = distanceMatrices(testFeatures[k], trainCentroid[m]@trainCentroid[m].transpose())\n",
    "    predictLabels[k] = np.argmin(distances)\n",
    "\n",
    "print(\"Mean accuracy is: \", np.mean(predictLabels == testLabels))"
   ]
  }
 ],
 "metadata": {
  "kernelspec": {
   "display_name": "meg",
   "language": "python",
   "name": "python3"
  },
  "language_info": {
   "codemirror_mode": {
    "name": "ipython",
    "version": 3
   },
   "file_extension": ".py",
   "mimetype": "text/x-python",
   "name": "python",
   "nbconvert_exporter": "python",
   "pygments_lexer": "ipython3",
   "version": "3.10.13"
  }
 },
 "nbformat": 4,
 "nbformat_minor": 2
}
